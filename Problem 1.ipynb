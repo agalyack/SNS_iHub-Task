{
 "cells": [
  {
   "cell_type": "code",
   "execution_count": 13,
   "id": "aa5fc864",
   "metadata": {},
   "outputs": [
    {
     "name": "stdout",
     "output_type": "stream",
     "text": [
      "Preprocessed text: hi lilli how are you i cannot wait to see you today\n",
      "Indexing the words of the input text: {'you': 1, 'hi': 2, 'lilli': 3, 'how': 4, 'are': 5, 'i': 6, 'cannot': 7, 'wait': 8, 'to': 9, 'see': 10, 'today': 11}\n",
      "Input Text in number sequence: [[2, 3, 4, 5, 1, 6, 7, 8, 9, 10, 1, 11]]\n"
     ]
    }
   ],
   "source": [
    "import numpy as np\n",
    "import pandas as pd\n",
    "import string\n",
    "import re\n",
    "from tensorflow.keras.preprocessing.text import Tokenizer\n",
    "text=\"Hi, Lilli! How are you? I cannot wait to see you today!\"\n",
    "# defining function for preprocessing\n",
    "def preprocess_text(text):\n",
    "    #converting into lowercase\n",
    "    text = text.lower()\n",
    "    \n",
    "    #to remove all the punctuation marks in the text\n",
    "    text = text.translate(str.maketrans('', '', string.punctuation))\n",
    "    \n",
    "    #Remove extra spaces\n",
    "    text = re.sub(r'\\s+', ' ', text)  \n",
    "    \n",
    "    # Remove digits\n",
    "    text = re.sub(r'\\d+', '', text)   \n",
    "    return text.strip()\n",
    "\n",
    "text = preprocess_text(text)\n",
    "print(\"Preprocessed text:\",text)\n",
    "\n",
    "# Tokenize the text data\n",
    "tokenizer = Tokenizer()\n",
    "tokenizer.fit_on_texts([text])\n",
    "\n",
    "#Indexing the words\n",
    "print(\"Indexing the words of the input text:\",tokenizer.word_index)\n",
    "\n",
    "#converting text to numbers\n",
    "sequences = tokenizer.texts_to_sequences([text])\n",
    "print(\"Input Text in number sequence:\",sequences)"
   ]
  },
  {
   "cell_type": "code",
   "execution_count": null,
   "id": "f53be8ab",
   "metadata": {},
   "outputs": [],
   "source": []
  },
  {
   "cell_type": "code",
   "execution_count": null,
   "id": "c12367b0",
   "metadata": {},
   "outputs": [],
   "source": []
  }
 ],
 "metadata": {
  "kernelspec": {
   "display_name": "Python 3 (ipykernel)",
   "language": "python",
   "name": "python3"
  },
  "language_info": {
   "codemirror_mode": {
    "name": "ipython",
    "version": 3
   },
   "file_extension": ".py",
   "mimetype": "text/x-python",
   "name": "python",
   "nbconvert_exporter": "python",
   "pygments_lexer": "ipython3",
   "version": "3.11.5"
  }
 },
 "nbformat": 4,
 "nbformat_minor": 5
}
